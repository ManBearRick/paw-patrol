{
 "cells": [
  {
   "cell_type": "code",
   "execution_count": 177,
   "id": "144d04ea-cbc6-42d4-8d91-8b8e1cbdf0c4",
   "metadata": {
    "tags": []
   },
   "outputs": [],
   "source": [
    "import requests\n",
    "import html5lib\n",
    "from bs4 import BeautifulSoup, element\n",
    "\n",
    "PUPS = ['Chase', 'Marshall', 'Skye', 'Rubble', 'Everest', 'Rocky', 'Zuma']\n",
    "HTML_ELEMENTS = ['h2', 'h3', 'ul', 'p']\n",
    "PAGE_SECTIONS = [\n",
    "    'Season'\n",
    "    ,'Number'\n",
    "    ,'Overall Episode'\n",
    "    ,'Premiere Dates'\n",
    "    ,'Writer(s)'\n",
    "    ,'Director'\n",
    "    ,'Previous Episode'\n",
    "    ,'Next Episode',\n",
    "    'Summary', \n",
    "    'Characters', \n",
    "    'Synopsis', \n",
    "    'Pups in Action', \n",
    "    'First Responders', \n",
    "    'Backup Responders', \n",
    "    'Other Tasks', \n",
    "    'DVD Inclusions'\n",
    "]\n",
    "\n",
    "# METADATA_SECTIONS = ['Season'\n",
    "# ,'Number'\n",
    "# ,'Overall Episode'\n",
    "# ,'Premiere Dates'\n",
    "# ,'Writer(s)'\n",
    "# ,'Director'\n",
    "# ,'Previous Episode'\n",
    "# ,'Next Episode']"
   ]
  },
  {
   "cell_type": "code",
   "execution_count": 169,
   "id": "f28802ff-903b-4f61-8e4f-5ab8b6b2fab5",
   "metadata": {
    "tags": []
   },
   "outputs": [],
   "source": [
    "url = 'https://pawpatrol.fandom.com/wiki/Pups_Turn_on_the_Lights'\n",
    "episode = url.split('/')[-1]"
   ]
  },
  {
   "cell_type": "code",
   "execution_count": 183,
   "id": "29a65e64-3faa-4783-9149-cc8eeb208ca4",
   "metadata": {
    "tags": []
   },
   "outputs": [
    {
     "data": {
      "text/plain": [
       "['1', 'Number\\n\\t\\n\\t16B', 'Advertisement']"
      ]
     },
     "execution_count": 183,
     "metadata": {},
     "output_type": "execute_result"
    }
   ],
   "source": [
    "elements = get_page_elements(url)\n",
    "get_elements(elements,'Season', 'div')\n",
    "\n"
   ]
  },
  {
   "cell_type": "code",
   "execution_count": 170,
   "id": "1276a521-7c7e-4a8c-8500-9072182ea87e",
   "metadata": {
    "tags": []
   },
   "outputs": [],
   "source": [
    "def get_episode_from_url(url: str) -> str:\n",
    "    return url.split('/')[-1]\n",
    "\n",
    "def get_page_elements(url: str) -> element.ResultSet:\n",
    "    r = requests.get(url)\n",
    "    soup = BeautifulSoup(r.content, 'html5lib')\n",
    "    td = soup.find('td')\n",
    "    return td.findAll(HTML_ELEMENTS)\n",
    "\n",
    "def get_elements(\n",
    "    elements: element.ResultSet,\n",
    "    first_header: str, \n",
    "    element_type: str) -> list:\n",
    "    \n",
    "    first_header_loc = PAGE_SECTIONS.index(first_header)\n",
    "    second_header = PAGE_SECTIONS[first_header_loc + 1]\n",
    "    first_next_elements = None\n",
    "    second_prev_elements = None\n",
    "    \n",
    "    for element in elements:\n",
    "        if element.text == first_header:\n",
    "            first_next_elements = element.find_all_next(element_type)\n",
    "        if element.text == second_header:\n",
    "            second_prev_elements = element.find_all_previous(element_type)\n",
    "    if first_next_elements is None:\n",
    "        raise ValueError(f'Section value of {first_header} not found in the provided elements')\n",
    "        \n",
    "    if second_prev_elements is None:\n",
    "        for i in range(first_header_loc+1, len(PAGE_SECTIONS)):\n",
    "            next_header = PAGE_SECTIONS[i]\n",
    "            for element in elements:\n",
    "                if element.text == next_header:\n",
    "                    second_prev_elements = element.find_all_previous(element_type)\n",
    "                    break\n",
    "    if second_prev_elements is None:\n",
    "        raise ValueError('Could not locate next section for `first_header`') \n",
    "                \n",
    "    between_elements = []\n",
    "    for element in first_next_elements:\n",
    "        if element in second_prev_elements:\n",
    "            between_elements.append(element.text.strip())\n",
    "    return between_elements\n",
    "\n",
    "def split_list_items(items: list[str], sep: str) -> list:\n",
    "    split_list = []\n",
    "    for item in items:\n",
    "        if len(item.split('+')) == 1:\n",
    "            split_list.append(item)\n",
    "        else:\n",
    "            for split_item in item.split('+'):\n",
    "                split_list.append(split_item)\n",
    "    return split_list\n",
    "\n",
    "def get_season_number(elements: element.ResultSet) -> int:\n",
    "    try:\n",
    "        season_str = get_elements(elements,'Season', 'div')[-1]\n",
    "    except:\n",
    "        return None\n",
    "    return int(season_str)\n",
    "\n",
    "def get_summary(elements: element.ResultSet) -> str:\n",
    "    try:\n",
    "        summary = get_elements(elements, 'Summary', 'p')\n",
    "    except:\n",
    "        return None\n",
    "    return ''.join(summary)\n",
    "\n",
    "def get_characters(elements: element.ResultSet) -> list:\n",
    "    try:\n",
    "        characters = get_elements(elements, 'Characters', 'li')\n",
    "    except:\n",
    "        return None\n",
    "    return characters\n",
    "\n",
    "def get_synopsis(elements: element.ResultSet) -> str:\n",
    "    try:\n",
    "        synopsis = get_elements(elements, 'Synopsis', 'p')\n",
    "    except:\n",
    "        return None\n",
    "    return ''.join(synopsis)\n",
    "\n",
    "def get_first_responders(elements: element.ResultSet) -> list:\n",
    "    try:\n",
    "        first_responders = get_elements(elements, 'First Responders', 'p')\n",
    "    except:\n",
    "        return None\n",
    "    return split_list_items(first_responders, '+')\n",
    "def get_backup_responders(elements: element.ResultSet) -> list:\n",
    "    try:\n",
    "        backups = get_elements(elements, 'Backup Responders', 'p')\n",
    "    except:\n",
    "        return None\n",
    "    return split_list_items(backups, '+')\n",
    "\n",
    "def get_other_tasks(elements: element.ResultSet) -> list:\n",
    "    try:\n",
    "        others = get_elements(elements, 'Other Tasks', 'p')\n",
    "    except Exception:\n",
    "        return None\n",
    "    return split_list_items(others, '+')\n"
   ]
  },
  {
   "cell_type": "code",
   "execution_count": 166,
   "id": "de90e58b-b3ef-4f7d-8ea3-896446f9268a",
   "metadata": {
    "tags": []
   },
   "outputs": [
    {
     "name": "stdout",
     "output_type": "stream",
     "text": [
      "It's Chase's birthday and the other pups and Katie are setting up Chase's surprise birthday party at Katie's Clinic. But their hopes for a surprise is on the line when a strong wind breaks the blade of the windmill on the wind turbine, causing a blackout. Can the PAW Patrol get the power back on in time for Chase's surprise birthday party?\n",
      "['Ryder', 'Chase', 'Marshall', 'Skye', 'Rocky', 'Rubble', 'Zuma', 'Katie', 'Mayor Goodway', 'Alex Porter', 'Mr. Porter', 'Farmer Yumi', 'Cali', 'Chickaletta']\n",
      "The episode begins with Skye and Rubble sneaking in a cardboard box to Katie's Pet Parlor, as that was the location for where they were holding a surprise party for Chase. Rocky decorates the clinic with streamers, accidentally spreading one over Cali. Katie preps for doing the cake, and all the pups are helping out to make it perfect. Meanwhile, Marshall keeps Chase busy so the others can finish the preparations.However, the weather is pretty windy, and at the wind turbine farm providing power to Adventure Bay, the wind gets so strong that one of the blades on one of the turbines can't take the stress and snaps off, disabling the turbine, and reducing the power output. The effects are immediate: The lights at the clinic go out, and Katie's mixer dies while she is still mixing the cake batter for Chase's cake.The pups are worried as the rest of the street is dark as well. As Ryder guesses the turbine is broken, the pups fear that Chase's party is ruined, Skye even howling in sadness. Ryder refuses to let Chase's party be ruined by a simple power blackout, and calls the pups to the Lookout to investigate.Marshall and Chase get there first, but due to the Lookout also being hooked up to the power grid, the electronic doors are disabled, and Marshall crashes into them. Before they can warn the other pups, Skye, Zuma, and Rubble suffer the same fate as they bump into the doors, and Marshall and Chase, causing a pile-up. Ryder and Rocky arrive, with Rocky lending the screwdriver from his pup-pack's tools to help Ryder pry the doors open so the pups can suit up and grab their pup-packs. While the pups grab their gear, Ryder has Marshall lend his firetruck's ladder to him so he can climb up to the Lookout's upper level, pry the door up there open, and check the periscope to see what happened to the turbines. Once Ryder sees the reason is a broken blade, he heads down the fire pole as always, only now darkened due to the blackout, and meets up with the pups outside.With the power out, Ryder uses his pup-pad to give the pups their briefing and orders: Rocky and Marshall will assist Ryder with repairing the turbine, while Chase does his duties as police pup to control traffic with the traffic lights disabled due to the blackout. As for Skye, Zuma, and Rubble, they will help Katie with finishing Chase's party, even if it is in the dark. Ryder makes sure Chase is out of earshot to hear about his birthday surprise. As the pups deploy, Ryder has another problem with the blackout: He has to struggle to manually open the garage door for his ATV before he can deploy as well. Once he gets it open, the PAW Patrol head out, while Skye, Zuma, and Rubble decide to hold Chase's party in the dark if the power is not restored.In town, the blackout is already causing trouble: traffic jams up and down Main Street, and the gridlock is preventing Mayor Goodway and the citizens from using the crosswalk. Worse, it is getting dark out as the sun sets. Chase arrives just in time, and is able to clear the gridlock and allow the Mayor and the citizens to cross safely.Meanwhile, Ryder, Rocky, and Marshall arrive at the wind farm, and set about with the repairs to the damaged turbine. While Ryder climbs up and removes the broken blade, Rocky finds their spare blade in the form of Zuma's old surfboard. Once Rocky attaches the surfboard into the slot where the broken blade was and comes down, a fresh gust of wind comes in, and the surfboard is able to catch it, allowing the turbine to resume turning again, restoring the power.Back at Katie's, while the power is still out, the pups and Katie find other means for enjoyment at the party, like shadow puppets and flashlight tag. They are barely enjoying the flashlight tag before the power is restored. The pups and Katie are happy, but Skye is disappointed at how there is no time to finish Chase's cake. Luckily, Katie is able to find a solution to the cake problem.Back at Main Street, the restored power allows the traffic lights to come back online, much to Chase's happiness, and as the last of the citizens he helped cross the street thank Chase for all his help, Chase packs up his megaphone and returns to his truck.Ryder soon calls, telling Chase to rendezvous with them at Katie's as soon as possible, and Chase heads out with his siren blaring. When Chase reaches the Clinic and heads inside, it is dark, until the others turn on the lights and wish Chase a happy birthday. Chase is amazed, and loves his dog cookie cake that Katie made to make up for being unable to finish a regular cake. Ryder then adds on that while it may be Chase's party, all the pups did good, and are allowed to dig into Chase's cake with him. Skye then turns off the lights so they can play some more flashlight tag and do more shadow puppets, and the episode ends as Katie tells Chase he's it now, and Chase replies with his catchphrase, \"Chase is on the case!\", leading to a round of laughter from inside the clinic.\n",
      "['Rocky', 'Marshall', 'Chase', 'Zuma', ' Rubble', ' Skye']\n",
      "None\n",
      "['Zuma', ' Rubble', ' Skye']\n"
     ]
    }
   ],
   "source": [
    "elements = get_page_elements(url)\n",
    "print(get_summary(elements))\n",
    "print(get_characters(elements))\n",
    "print(get_synopsis(elements))\n",
    "print(get_first_responders(elements))\n",
    "print(get_backup_responders(elements))\n",
    "print(get_other_tasks(elements))"
   ]
  },
  {
   "cell_type": "code",
   "execution_count": null,
   "id": "5dd001f4-a51e-4fa2-9314-45265f60073d",
   "metadata": {
    "tags": []
   },
   "outputs": [],
   "source": [
    "url = 'https://pawpatrol.fandom.com/wiki/Pups_Fall_Festival'\n",
    "elements = get_page_elements(url)\n",
    "print(get_summary(elements))\n",
    "print(get_characters(elements))\n",
    "print(get_synopsis(elements))\n",
    "print(get_first_responders(elements))\n",
    "print(get_backup_responders(elements))"
   ]
  },
  {
   "cell_type": "code",
   "execution_count": 90,
   "id": "f2906c00-383f-41d1-bf75-ca6ecd3e2370",
   "metadata": {
    "tags": []
   },
   "outputs": [
    {
     "ename": "UnboundLocalError",
     "evalue": "cannot access local variable 'second_prev_elements' where it is not associated with a value",
     "output_type": "error",
     "traceback": [
      "\u001b[0;31m---------------------------------------------------------------------------\u001b[0m",
      "\u001b[0;31mUnboundLocalError\u001b[0m                         Traceback (most recent call last)",
      "Cell \u001b[0;32mIn[90], line 2\u001b[0m\n\u001b[1;32m      1\u001b[0m elements \u001b[38;5;241m=\u001b[39m get_page_elements(\u001b[38;5;124m'\u001b[39m\u001b[38;5;124mhttps://pawpatrol.fandom.com/wiki/Pups_Fall_Festival\u001b[39m\u001b[38;5;124m'\u001b[39m)\n\u001b[0;32m----> 2\u001b[0m \u001b[43mget_between_elements\u001b[49m\u001b[43m(\u001b[49m\n\u001b[1;32m      3\u001b[0m \u001b[43m        \u001b[49m\u001b[43melements\u001b[49m\u001b[43m,\u001b[49m\n\u001b[1;32m      4\u001b[0m \u001b[43m        \u001b[49m\u001b[38;5;124;43m'\u001b[39;49m\u001b[38;5;124;43mFirst Responders\u001b[39;49m\u001b[38;5;124;43m'\u001b[39;49m\u001b[43m,\u001b[49m\n\u001b[1;32m      5\u001b[0m \u001b[43m        \u001b[49m\u001b[38;5;124;43m'\u001b[39;49m\u001b[38;5;124;43mBackup Responders\u001b[39;49m\u001b[38;5;124;43m'\u001b[39;49m\u001b[43m,\u001b[49m\n\u001b[1;32m      6\u001b[0m \u001b[43m        \u001b[49m\u001b[38;5;124;43m'\u001b[39;49m\u001b[38;5;124;43mp\u001b[39;49m\u001b[38;5;124;43m'\u001b[39;49m\n\u001b[1;32m      7\u001b[0m \u001b[43m    \u001b[49m\u001b[43m)\u001b[49m\n",
      "Cell \u001b[0;32mIn[85], line 19\u001b[0m, in \u001b[0;36mget_between_elements\u001b[0;34m(elements, first_header, second_header, element_type)\u001b[0m\n\u001b[1;32m     17\u001b[0m between_elements \u001b[38;5;241m=\u001b[39m []\n\u001b[1;32m     18\u001b[0m \u001b[38;5;28;01mfor\u001b[39;00m element \u001b[38;5;129;01min\u001b[39;00m first_next_elements:\n\u001b[0;32m---> 19\u001b[0m     \u001b[38;5;28;01mif\u001b[39;00m element \u001b[38;5;129;01min\u001b[39;00m \u001b[43msecond_prev_elements\u001b[49m:\n\u001b[1;32m     20\u001b[0m         between_elements\u001b[38;5;241m.\u001b[39mappend(element\u001b[38;5;241m.\u001b[39mtext\u001b[38;5;241m.\u001b[39mstrip())\n\u001b[1;32m     21\u001b[0m \u001b[38;5;28;01mreturn\u001b[39;00m between_elements\n",
      "\u001b[0;31mUnboundLocalError\u001b[0m: cannot access local variable 'second_prev_elements' where it is not associated with a value"
     ]
    }
   ],
   "source": [
    "elements = get_page_elements('https://pawpatrol.fandom.com/wiki/Pups_Fall_Festival')\n",
    "get_between_elements(\n",
    "        elements,\n",
    "        'First Responders',\n",
    "        'Backup Responders',\n",
    "        'p'\n",
    "    )"
   ]
  },
  {
   "cell_type": "code",
   "execution_count": 129,
   "id": "710a17cd-c527-4653-8a62-3946008ffe5d",
   "metadata": {
    "tags": []
   },
   "outputs": [],
   "source": [
    "def get_elements(\n",
    "    elements: element.ResultSet,\n",
    "    first_header: str, \n",
    "    element_type: str) -> list:\n",
    "    \n",
    "    first_header_loc = PAGE_SECTIONS.index(first_header)\n",
    "    second_header = PAGE_SECTIONS[first_header_loc + 1]\n",
    "    first_next_elements = None\n",
    "    second_prev_elements = None\n",
    "    \n",
    "    for element in elements:\n",
    "        if element.text == first_header:\n",
    "            first_next_elements = element.find_all_next(element_type)\n",
    "        if element.text == second_header:\n",
    "            second_prev_elements = element.find_all_previous(element_type)\n",
    "    if first_next_elements is None:\n",
    "        raise ValueError(f'Section value of {first_header} not found in the provided elements')\n",
    "        \n",
    "    if second_prev_elements is None:\n",
    "        for i in range(first_header_loc+1, len(PAGE_SECTIONS)):\n",
    "            next_header = PAGE_SECTIONS[i]\n",
    "            for element in elements:\n",
    "                if element.text == next_header:\n",
    "                    second_prev_elements = element.find_all_previous(element_type)\n",
    "                    break\n",
    "    if second_prev_elements is None:\n",
    "        raise ValueError('Could not locate next section for `first_header`') \n",
    "                \n",
    "    between_elements = []\n",
    "    for element in first_next_elements:\n",
    "        if element in second_prev_elements:\n",
    "            between_elements.append(element.text.strip())\n",
    "    return between_elements\n",
    "\n",
    "def split_list_items(items: list[str], sep: str) -> list:\n",
    "    split_list = []\n",
    "    for item in items:\n",
    "        if len(item.split('+')) == 1:\n",
    "            split_list.append(item)\n",
    "        else:\n",
    "            for split_item in item.split('+'):\n",
    "                split_list.append(split_item)\n",
    "    return split_list"
   ]
  },
  {
   "cell_type": "code",
   "execution_count": 128,
   "id": "aae0577b-f004-40bb-913b-fd8207d3430c",
   "metadata": {
    "tags": []
   },
   "outputs": [
    {
     "data": {
      "text/plain": [
       "['Marshall', 'Rubble', 'Zuma', ' Skye', 'Rocky', 'Chase']"
      ]
     },
     "execution_count": 128,
     "metadata": {},
     "output_type": "execute_result"
    }
   ],
   "source": []
  },
  {
   "cell_type": "code",
   "execution_count": 105,
   "id": "c79e9043-4f6d-4d69-a8ef-693886d29f25",
   "metadata": {
    "tags": []
   },
   "outputs": [],
   "source": [
    "elements = get_page_elements(url)\n",
    "first_header = 'First Responders'\n",
    "first_header_loc = PAGE_SECTIONS.index(first_header)\n",
    "second_header = PAGE_SECTIONS[first_header_loc + 1]\n",
    "element_type = 'p'"
   ]
  },
  {
   "cell_type": "code",
   "execution_count": 110,
   "id": "0d40cedb-c49b-401a-99c9-bc1189dc6ddf",
   "metadata": {
    "tags": []
   },
   "outputs": [
    {
     "name": "stdout",
     "output_type": "stream",
     "text": [
      "['Marshall', 'Rubble', 'Zuma+ Skye', 'Rocky', 'Chase']\n"
     ]
    }
   ],
   "source": [
    "second_prev_elements = None\n",
    "for element in elements:\n",
    "    if element.text == first_header:\n",
    "        first_next_elements = element.find_all_next(element_type)\n",
    "    if element.text == second_header:\n",
    "        second_prev_elements = element.find_all_previous(element_type)\n",
    "    \n",
    "if second_prev_elements is None:\n",
    "    for i in range(first_header_loc+1, len(PAGE_SECTIONS)):\n",
    "        next_header = PAGE_SECTIONS[i]\n",
    "        for element in elements:\n",
    "            if element.text == next_header:\n",
    "                second_prev_elements = element.find_all_previous(element_type)\n",
    "                break\n",
    "                \n",
    "between_elements = []\n",
    "for element in first_next_elements:\n",
    "    if element in second_prev_elements:\n",
    "        between_elements.append(element.text.strip())\n",
    "print(between_elements)"
   ]
  },
  {
   "cell_type": "code",
   "execution_count": null,
   "id": "413bd830-a208-4c8c-bfa5-3b43ea48c4b9",
   "metadata": {},
   "outputs": [],
   "source": []
  }
 ],
 "metadata": {
  "kernelspec": {
   "display_name": "ppatrol",
   "language": "python",
   "name": "ppatrol"
  },
  "language_info": {
   "codemirror_mode": {
    "name": "ipython",
    "version": 3
   },
   "file_extension": ".py",
   "mimetype": "text/x-python",
   "name": "python",
   "nbconvert_exporter": "python",
   "pygments_lexer": "ipython3",
   "version": "3.11.0"
  }
 },
 "nbformat": 4,
 "nbformat_minor": 5
}
